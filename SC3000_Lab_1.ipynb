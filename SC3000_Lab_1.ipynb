{
  "nbformat": 4,
  "nbformat_minor": 0,
  "metadata": {
    "colab": {
      "provenance": []
    },
    "kernelspec": {
      "name": "python3",
      "display_name": "Python 3"
    },
    "language_info": {
      "name": "python"
    },
    "accelerator": "GPU",
    "gpuClass": "standard"
  },
  "cells": [
    {
      "cell_type": "markdown",
      "source": [
        "## Installing dependencies:"
      ],
      "metadata": {
        "id": "UBiYOoesYMvr"
      }
    },
    {
      "cell_type": "code",
      "execution_count": null,
      "metadata": {
        "colab": {
          "base_uri": "https://localhost:8080/"
        },
        "id": "PbgnVwZmX5uW",
        "outputId": "1148d482-6f8b-4b12-f190-bf6075eec987"
      },
      "outputs": [
        {
          "output_type": "stream",
          "name": "stdout",
          "text": [
            "Looking in indexes: https://pypi.org/simple, https://us-python.pkg.dev/colab-wheels/public/simple/\n",
            "Requirement already satisfied: gym[classic_control] in /usr/local/lib/python3.9/dist-packages (0.25.2)\n",
            "Requirement already satisfied: importlib-metadata>=4.8.0 in /usr/local/lib/python3.9/dist-packages (from gym[classic_control]) (6.0.0)\n",
            "Requirement already satisfied: cloudpickle>=1.2.0 in /usr/local/lib/python3.9/dist-packages (from gym[classic_control]) (2.2.1)\n",
            "Requirement already satisfied: gym-notices>=0.0.4 in /usr/local/lib/python3.9/dist-packages (from gym[classic_control]) (0.0.8)\n",
            "Requirement already satisfied: numpy>=1.18.0 in /usr/local/lib/python3.9/dist-packages (from gym[classic_control]) (1.22.4)\n",
            "Collecting pygame==2.1.0\n",
            "  Downloading pygame-2.1.0-cp39-cp39-manylinux_2_17_x86_64.manylinux2014_x86_64.whl (18.3 MB)\n",
            "\u001b[2K     \u001b[90m━━━━━━━━━━━━━━━━━━━━━━━━━━━━━━━━━━━━━━━━\u001b[0m \u001b[32m18.3/18.3 MB\u001b[0m \u001b[31m66.1 MB/s\u001b[0m eta \u001b[36m0:00:00\u001b[0m\n",
            "\u001b[?25hRequirement already satisfied: zipp>=0.5 in /usr/local/lib/python3.9/dist-packages (from importlib-metadata>=4.8.0->gym[classic_control]) (3.15.0)\n",
            "Installing collected packages: pygame\n",
            "Successfully installed pygame-2.1.0\n",
            "Looking in indexes: https://pypi.org/simple, https://us-python.pkg.dev/colab-wheels/public/simple/\n",
            "Requirement already satisfied: setuptools in /usr/local/lib/python3.9/dist-packages (63.4.3)\n",
            "Collecting setuptools\n",
            "  Downloading setuptools-67.6.0-py3-none-any.whl (1.1 MB)\n",
            "\u001b[2K     \u001b[90m━━━━━━━━━━━━━━━━━━━━━━━━━━━━━━━━━━━━━━━━\u001b[0m \u001b[32m1.1/1.1 MB\u001b[0m \u001b[31m15.7 MB/s\u001b[0m eta \u001b[36m0:00:00\u001b[0m\n",
            "\u001b[?25hInstalling collected packages: setuptools\n",
            "  Attempting uninstall: setuptools\n",
            "    Found existing installation: setuptools 63.4.3\n",
            "    Uninstalling setuptools-63.4.3:\n",
            "      Successfully uninstalled setuptools-63.4.3\n",
            "\u001b[31mERROR: pip's dependency resolver does not currently take into account all the packages that are installed. This behaviour is the source of the following dependency conflicts.\n",
            "ipython 7.9.0 requires jedi>=0.10, which is not installed.\n",
            "cvxpy 1.2.3 requires setuptools<=64.0.2, but you have setuptools 67.6.0 which is incompatible.\u001b[0m\u001b[31m\n",
            "\u001b[0mSuccessfully installed setuptools-67.6.0\n"
          ]
        }
      ],
      "source": [
        "!apt-get install -y xvfb python-opengl > /dev/null 2>&1\n",
        "!pip install gym pyvirtualdisplay > /dev/null 2>&1\n",
        "!pip install gym pyvirtualdisplay > /dev/null 2>&1\n",
        "!apt-get install -y xvfb python-opengl ffmpeg > /dev/null 2>&1\n",
        "!pip install gym[classic_control]\n",
        "!apt-get update > /dev/null 2>&1\n",
        "!apt-get install cmake > /dev/null 2>&1\n",
        "!pip install --upgrade setuptools 2>&1\n",
        "!pip install ez_setup > /dev/null 2>&1"
      ]
    },
    {
      "cell_type": "markdown",
      "source": [
        "## Importing dependencies and define helper functions"
      ],
      "metadata": {
        "id": "RwKbYeTgbaTA"
      }
    },
    {
      "cell_type": "code",
      "source": [
        "import gym\n",
        "from gym import logger as gymlogger\n",
        "from gym.wrappers import RecordVideo\n",
        "gymlogger.set_level(40) #error only\n",
        "import tensorflow as tf\n",
        "import numpy as np\n",
        "import random\n",
        "import matplotlib\n",
        "import matplotlib.pyplot as plt\n",
        "%matplotlib inline\n",
        "import math\n",
        "import glob\n",
        "import io\n",
        "import base64\n",
        "from IPython.display import HTML\n",
        "from IPython import display as ipythondisplay\n",
        "\n",
        "def show_video():\n",
        "  mp4list = glob.glob('video/*.mp4')\n",
        "  if len(mp4list) > 0:\n",
        "    mp4 = mp4list[0]\n",
        "    video = io.open(mp4, 'r+b').read()\n",
        "    encoded = base64.b64encode(video)\n",
        "    ipythondisplay.display(HTML(data='''<video alt=\"test\" autoplay \n",
        "                loop controls style=\"height: 400px;\">\n",
        "                <source src=\"data:video/mp4;base64,{0}\" type=\"video/mp4\" />\n",
        "             </video>'''.format(encoded.decode('ascii'))))\n",
        "  else: \n",
        "    print(\"Could not find video\")"
      ],
      "metadata": {
        "id": "j6KpgCLGYWmj"
      },
      "execution_count": null,
      "outputs": []
    },
    {
      "cell_type": "markdown",
      "source": [
        "## Tutorial: Loading CartPole environment"
      ],
      "metadata": {
        "id": "ehbqP9CXbmo7"
      }
    },
    {
      "cell_type": "code",
      "source": [
        "env = gym.make(\"CartPole-v1\")"
      ],
      "metadata": {
        "id": "Go12dH4qbwBy"
      },
      "execution_count": null,
      "outputs": []
    },
    {
      "cell_type": "markdown",
      "source": [
        "We can check the action and observation space of this environment. Discrete(2) means that there are two valid discrete actions: 0 & 1."
      ],
      "metadata": {
        "id": "9XZ9g3xrcAXE"
      }
    },
    {
      "cell_type": "code",
      "source": [
        "print(env.action_space)"
      ],
      "metadata": {
        "colab": {
          "base_uri": "https://localhost:8080/"
        },
        "id": "ytxvVmLdcRyw",
        "outputId": "62eda61a-b906-444e-96a4-a6c71caa2d6c"
      },
      "execution_count": null,
      "outputs": [
        {
          "output_type": "stream",
          "name": "stdout",
          "text": [
            "Discrete(2)\n"
          ]
        }
      ]
    },
    {
      "cell_type": "markdown",
      "source": [
        "The observation space is given below. The first two arrays define the min and max values of the 4 observed values, corresponding to cart position, velocity and pole angle, angular velocity."
      ],
      "metadata": {
        "id": "pVXGWi_Ncfg-"
      }
    },
    {
      "cell_type": "code",
      "source": [
        "print(env.observation_space)"
      ],
      "metadata": {
        "colab": {
          "base_uri": "https://localhost:8080/"
        },
        "id": "DyqHr9I5cdkX",
        "outputId": "3addbbde-fa10-4c67-9e1b-bf1613d3a84b"
      },
      "execution_count": null,
      "outputs": [
        {
          "output_type": "stream",
          "name": "stdout",
          "text": [
            "Box([-4.8000002e+00 -3.4028235e+38 -4.1887903e-01 -3.4028235e+38], [4.8000002e+00 3.4028235e+38 4.1887903e-01 3.4028235e+38], (4,), float32)\n"
          ]
        }
      ]
    },
    {
      "cell_type": "markdown",
      "source": [
        "We call each round of the pole-balancing game an \"episode\". At the start of each episode, make sure the environment is reset, which chooses a random initial state, e.g., pole slightly tilted to the right. This initialization can be achieved by the code below, which returns the observation of the initial state."
      ],
      "metadata": {
        "id": "HFOdaU2Gdyg0"
      }
    },
    {
      "cell_type": "code",
      "source": [
        "observation = env.reset()\n",
        "print(\"Initial observations:\", observation)"
      ],
      "metadata": {
        "colab": {
          "base_uri": "https://localhost:8080/"
        },
        "id": "VMr6qAqxdOsm",
        "outputId": "33c040d2-7b6a-4168-8272-97936bbb9e18"
      },
      "execution_count": null,
      "outputs": [
        {
          "output_type": "stream",
          "name": "stdout",
          "text": [
            "Initial observations: [ 0.03524435 -0.0104808  -0.04081965 -0.01143505]\n"
          ]
        }
      ]
    },
    {
      "cell_type": "markdown",
      "source": [
        "For the CartPole environment, there are two possible actions: 0 for pushing to the left and 1 for pushing to the right. For example, we can push the cart to the left using code below, which returns the new observation, the current reward, an indicator of whether the game ends, and some additional information (not used in this project). For CartPole, the game ends when the pole is significantly tilted or you manage to balance the pole for 500 steps. You get exactly 1 reward for each step before the game ends (i.e., max cumulative reward is 500)."
      ],
      "metadata": {
        "id": "qnG2QdfbeZrI"
      }
    },
    {
      "cell_type": "code",
      "source": [
        "observation, reward, done, info = env.step(0)\n",
        "print(\"New observations after choosing action 0:\", observation)\n",
        "print(\"Reward for this step:\", reward)\n",
        "print(\"Is this round done?\", done)"
      ],
      "metadata": {
        "colab": {
          "base_uri": "https://localhost:8080/"
        },
        "id": "MmfMDvyYdWGk",
        "outputId": "2c1c1e7f-49e8-4b59-b073-6347042da763"
      },
      "execution_count": null,
      "outputs": [
        {
          "output_type": "stream",
          "name": "stdout",
          "text": [
            "New observations after choosing action 0: [ 0.03503473 -0.20499429 -0.04104836  0.26809448]\n",
            "Reward for this step: 1.0\n",
            "Is this round done? False\n"
          ]
        }
      ]
    },
    {
      "cell_type": "markdown",
      "source": [
        "Now we can play a full round of the game using a naive strategy (always choosing action 0), and show the cumulative reward in the round. Note that reward returned by env.step(*) corresponds to the reward for current step. So we have to accumulate the reward for each step. Clearly, the naive strategy performs poorly by surviving only a dozen of steps."
      ],
      "metadata": {
        "id": "tj0zCh59fhBb"
      }
    },
    {
      "cell_type": "code",
      "source": [
        "observation = env.reset()\n",
        "cumulative_reward = 0\n",
        "done = False\n",
        "while not done:\n",
        "    observation, reward, done, info = env.step(0)\n",
        "    cumulative_reward += reward\n",
        "print(\"Cumulative reward for this round:\", cumulative_reward)"
      ],
      "metadata": {
        "colab": {
          "base_uri": "https://localhost:8080/"
        },
        "id": "AVucQVRwf6Jm",
        "outputId": "f8ed54a6-1151-4099-d6a6-e8950c7597ae"
      },
      "execution_count": null,
      "outputs": [
        {
          "output_type": "stream",
          "name": "stdout",
          "text": [
            "Cumulative reward for this round: 10.0\n"
          ]
        }
      ]
    },
    {
      "cell_type": "markdown",
      "source": [
        "For this assignment, we will be using the **S**tate, **A**ction, **R**eward, Next **S**tate, Next **A**ction (SARSA) reinforcement learning (RL) algorithm for our agent. The SARSA is based on the Markov Decision Process policy, which is widely used in the RL area of machine learning. Since the SARSA agent interacts with the environment and updates the policy based on the actions taken, it is known as an on-Policy temporal difference algorithm. \n",
        "\n",
        "The Q value for a state-action is updated by an error (epsilon, ε), adjusted by the learning rate alpha (α). Q values represent the possible reward received in the next time step for taking action a in state s, plus the discounted future reward received from the next state-action observation. The following image shows the SARSA policy for estimating the Q value.\n",
        "\n",
        "![1*P2S4-ZS1-bEHs_I3kCrGEQ.webp](data:image/webp;base64,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)\n",
        "\n",
        "\n",
        "---\n",
        "\n",
        "References: <br>\n",
        "https://en.wikipedia.org/wiki/State–action–reward–state–action <br>\n",
        "https://ikvibhav.medium.com/open-aigym-simple-sarsa-and-q-learning-reinforcement-learning-implementations-7d5ea6f1ff9"
      ],
      "metadata": {
        "id": "28blX1Ks1g9J"
      }
    },
    {
      "cell_type": "markdown",
      "source": [],
      "metadata": {
        "id": "vyArJWIw9KkS"
      }
    },
    {
      "cell_type": "markdown",
      "source": [
        "## Task 1: Development of an RL agent"
      ],
      "metadata": {
        "id": "2oIzK9SzhlWN"
      }
    },
    {
      "cell_type": "markdown",
      "source": [],
      "metadata": {
        "id": "8Q5Bxb8H1TgD"
      }
    },
    {
      "cell_type": "code",
      "source": [
        "#Hyperparamters\n",
        "EPISODES = 10000\n",
        "DISCOUNT = 0.95\n",
        "EPISODE_DISPLAY = 500\n",
        "LEARNING_RATE = 0.25\n",
        "EPSILON = 0.1\n",
        "\n",
        "#Q-Table of size theta_state_size*theta_dot_state_size*env.action_space.n\n",
        "theta_minmax = env.observation_space.high[2] \n",
        "theta_dot_minmax = math.radians(50)\n",
        "theta_state_size = 50\n",
        "theta_dot_state_size = 50\n",
        "Q_TABLE = np.random.randn(theta_state_size,theta_dot_state_size,env.action_space.n)\n",
        "\n",
        "# For stats\n",
        "ep_rewards = []\n",
        "ep_rewards_table = {'ep': [], 'avg': [], 'min': [], 'max': []}"
      ],
      "metadata": {
        "id": "NdE5YNRh1R42"
      },
      "execution_count": null,
      "outputs": []
    },
    {
      "cell_type": "markdown",
      "source": [],
      "metadata": {
        "id": "niis-1z-ut6N"
      }
    },
    {
      "cell_type": "code",
      "source": [
        "def discretised_state(state):\n",
        "\t#state[2] -> theta\n",
        "\t#state[3] -> theta_dot\n",
        "\tdiscrete_state = np.array([0,0])\t\t#Initialised discrete array\n",
        "\ttheta_window =  ( theta_minmax - (-theta_minmax) ) / theta_state_size\n",
        "\tdiscrete_state[0] = ( state[2] - (-theta_minmax) ) // theta_window\n",
        "\tdiscrete_state[0] = min(theta_state_size-1, max(0,discrete_state[0]))\n",
        "\n",
        "\ttheta_dot_window =  ( theta_dot_minmax - (-theta_dot_minmax) )/ theta_dot_state_size\n",
        "\tdiscrete_state[1] = ( state[3] - (-theta_dot_minmax) ) // theta_dot_window\n",
        "\tdiscrete_state[1] = min(theta_dot_state_size-1, max(0,discrete_state[1]))\n",
        "\n",
        "\treturn tuple(discrete_state.astype(np.int))"
      ],
      "metadata": {
        "id": "l5qcDLQR-I1B"
      },
      "execution_count": null,
      "outputs": []
    },
    {
      "cell_type": "markdown",
      "source": [
        "The function below is used to create the SARSA agent. It takes "
      ],
      "metadata": {
        "id": "ypKf_lZN_cao"
      }
    },
    {
      "cell_type": "code",
      "source": [
        "def sarsa_agent(state, q_table, epsilon):\n",
        "    discrete_state = discretised_state(state)\n",
        "    if np.random.random() > epsilon:\n",
        "        action = np.argmax(q_table[discrete_state])\n",
        "    else:\n",
        "        action = np.random.randint(0, env.action_space.n)\n",
        "    return action\n"
      ],
      "metadata": {
        "id": "nvniJWHNs0xy"
      },
      "execution_count": null,
      "outputs": []
    },
    {
      "cell_type": "markdown",
      "source": [],
      "metadata": {
        "id": "f9uaFpwH1VlA"
      }
    },
    {
      "cell_type": "code",
      "source": [
        "def train(env, episodes, discount, learning_rate, epsilon):\n",
        "    q_table = np.random.randn(theta_state_size,theta_dot_state_size,env.action_space.n)\n",
        "    ep_rewards = []\n",
        "    for episode in range(episodes):\n",
        "        episode_reward = 0\n",
        "        done = False\n",
        "        observation = env.reset()\n",
        "        action = sarsa_agent(observation, q_table, epsilon)\n",
        "        while not done:\n",
        "            new_observation, reward, done, _ = env.step(action)\n",
        "            new_action = sarsa_agent(new_observation, q_table, epsilon)\n",
        "            episode_reward += reward\n",
        "            current_q = q_table[discretised_state(observation)+(action,)]\n",
        "            future_q = q_table[discretised_state(new_observation)+(new_action,)]\n",
        "            new_q = current_q + learning_rate*(reward + discount*future_q - current_q)\n",
        "            q_table[discretised_state(observation)+(action,)] = new_q\n",
        "            observation = new_observation\n",
        "            action = new_action\n",
        "        ep_rewards.append(episode_reward)\n",
        "    return q_table, ep_rewards\n"
      ],
      "metadata": {
        "id": "bjX4OLuH8Djv"
      },
      "execution_count": null,
      "outputs": []
    },
    {
      "cell_type": "markdown",
      "source": [],
      "metadata": {
        "id": "5gCpCjhQ1Wll"
      }
    },
    {
      "cell_type": "code",
      "source": [
        "def test(env, episodes):\n",
        "    episode_rewards = []\n",
        "    for episode in range(episodes):\n",
        "        observation = env.reset()\n",
        "        done = False\n",
        "        episode_reward = 0\n",
        "        while not done:\n",
        "            action = sarsa_agent(observation, q_table, EPSILON)\n",
        "            observation, reward, done, _ = env.step(action)\n",
        "            episode_reward += reward\n",
        "        episode_rewards.append(episode_reward)\n",
        "    return episode_rewards\n"
      ],
      "metadata": {
        "id": "Rr4ekh3J9Y04"
      },
      "execution_count": null,
      "outputs": []
    },
    {
      "cell_type": "code",
      "source": [
        "q_table, ep_rewards = train(env, EPISODES, DISCOUNT, LEARNING_RATE, EPSILON)"
      ],
      "metadata": {
        "colab": {
          "base_uri": "https://localhost:8080/"
        },
        "id": "_PRVnAlE9aE5",
        "outputId": "3b5eefb6-de93-400b-98a5-2c802f4371d8"
      },
      "execution_count": null,
      "outputs": [
        {
          "output_type": "stream",
          "name": "stderr",
          "text": [
            "<ipython-input-9-56ba1009eb8e>:31: DeprecationWarning: `np.int` is a deprecated alias for the builtin `int`. To silence this warning, use `int` by itself. Doing this will not modify any behavior and is safe. When replacing `np.int`, you may wish to use e.g. `np.int64` or `np.int32` to specify the precision. If you wish to review your current use, check the release note link for additional information.\n",
            "Deprecated in NumPy 1.20; for more details and guidance: https://numpy.org/devdocs/release/1.20.0-notes.html#deprecations\n",
            "  return tuple(discrete_state.astype(np.int))\n"
          ]
        }
      ]
    },
    {
      "cell_type": "markdown",
      "source": [
        "For Task 1, we can show the observation and chosen action below:"
      ],
      "metadata": {
        "id": "RAi7KKwNiegR"
      }
    },
    {
      "cell_type": "code",
      "source": [
        "#q_table, ep_rewards = train(env, EPISODES, DISCOUNT, LEARNING_RATE, EPSILON)\n",
        "observation = env.reset()\n",
        "action = sarsa_agent(observation, q_table, EPSILON)\n",
        "print(\"Observation:\", observation)\n",
        "print(\"Chosen action:\", action)"
      ],
      "metadata": {
        "colab": {
          "base_uri": "https://localhost:8080/"
        },
        "id": "ae2ia-vUiNKJ",
        "outputId": "84df1c7e-47e1-492e-df7b-18d9bcc4e40b"
      },
      "execution_count": null,
      "outputs": [
        {
          "output_type": "stream",
          "name": "stdout",
          "text": [
            "Observation: [-0.0303629  -0.00239823  0.02735173  0.02376028]\n",
            "Chosen action: 0\n"
          ]
        },
        {
          "output_type": "stream",
          "name": "stderr",
          "text": [
            "<ipython-input-9-56ba1009eb8e>:31: DeprecationWarning: `np.int` is a deprecated alias for the builtin `int`. To silence this warning, use `int` by itself. Doing this will not modify any behavior and is safe. When replacing `np.int`, you may wish to use e.g. `np.int64` or `np.int32` to specify the precision. If you wish to review your current use, check the release note link for additional information.\n",
            "Deprecated in NumPy 1.20; for more details and guidance: https://numpy.org/devdocs/release/1.20.0-notes.html#deprecations\n",
            "  return tuple(discrete_state.astype(np.int))\n"
          ]
        }
      ]
    },
    {
      "cell_type": "markdown",
      "source": [
        "## Task 2: Demonstrate the effectiveness of the RL agent"
      ],
      "metadata": {
        "id": "-XtIQ0Rti1gm"
      }
    },
    {
      "cell_type": "markdown",
      "source": [
        "For this task, use the agent developed in Task 1 to play the game for 100 episodes (refer to tutorial for how to play a round), record the cumulative reward for each round, and plot the reward for each round. A sample plotting code is given below. Note that you must include code to play for 100 episodes and use the code to obtain round_results for plotting. DO NOT record the round results in advance and paste the results to the notebook."
      ],
      "metadata": {
        "id": "djBEShf0kGI4"
      }
    },
    {
      "cell_type": "code",
      "source": [
        "episode_results = test(env, 100) #np.random.randint(150, 250, size=100)"
      ],
      "metadata": {
        "colab": {
          "base_uri": "https://localhost:8080/"
        },
        "id": "LQ5BD0wrEu4s",
        "outputId": "67b2384a-e217-4b41-aa50-2c0bb7cd6467"
      },
      "execution_count": null,
      "outputs": [
        {
          "output_type": "stream",
          "name": "stderr",
          "text": [
            "<ipython-input-9-56ba1009eb8e>:31: DeprecationWarning: `np.int` is a deprecated alias for the builtin `int`. To silence this warning, use `int` by itself. Doing this will not modify any behavior and is safe. When replacing `np.int`, you may wish to use e.g. `np.int64` or `np.int32` to specify the precision. If you wish to review your current use, check the release note link for additional information.\n",
            "Deprecated in NumPy 1.20; for more details and guidance: https://numpy.org/devdocs/release/1.20.0-notes.html#deprecations\n",
            "  return tuple(discrete_state.astype(np.int))\n"
          ]
        },
        {
          "output_type": "execute_result",
          "data": {
            "text/plain": [
              "100"
            ]
          },
          "metadata": {},
          "execution_count": 18
        }
      ]
    },
    {
      "cell_type": "code",
      "source": [
        "plt.plot(episode_results)\n",
        "plt.title('Cumulative reward for each episode')\n",
        "plt.ylabel('Cumulative reward')\n",
        "plt.xlabel('episode')\n",
        "plt.show()"
      ],
      "metadata": {
        "colab": {
          "base_uri": "https://localhost:8080/",
          "height": 295
        },
        "id": "RZrCKywQi6CE",
        "outputId": "d7343dbb-7b66-4e2b-f4a1-bcd3b04f4b94"
      },
      "execution_count": null,
      "outputs": [
        {
          "output_type": "display_data",
          "data": {
            "text/plain": [
              "<Figure size 432x288 with 1 Axes>"
            ],
            "image/png": "[encoded data removed]"
          },
          "metadata": {
            "needs_background": "light"
          }
        }
      ]
    },
    {
      "cell_type": "markdown",
      "source": [
        "Print the average reward over the 100 episodes."
      ],
      "metadata": {
        "id": "XndSYH7wlvn7"
      }
    },
    {
      "cell_type": "code",
      "source": [
        "average = sum(episode_results) / 100\n",
        "print(\"Average cumulative reward:\", average)\n",
        "print(\"Is my agent good enough?\", average > 195)"
      ],
      "metadata": {
        "colab": {
          "base_uri": "https://localhost:8080/"
        },
        "id": "pOiOp9OYlo5Y",
        "outputId": "01c1b3aa-9803-4020-bcd6-da89bec44e9b"
      },
      "execution_count": null,
      "outputs": [
        {
          "output_type": "stream",
          "name": "stdout",
          "text": [
            "Average cumulative reward: 246.51\n",
            "Is my agent good enough? True\n"
          ]
        }
      ]
    },
    {
      "cell_type": "markdown",
      "source": [
        "## Task 3: Render one episode played by the agent"
      ],
      "metadata": {
        "id": "Yg0DCT38lFA6"
      }
    },
    {
      "cell_type": "markdown",
      "source": [
        "Plug your agent to the code below to obtain rendered result."
      ],
      "metadata": {
        "id": "vx1awMr9lc_w"
      }
    },
    {
      "cell_type": "code",
      "source": [
        "env = RecordVideo(gym.make(\"CartPole-v1\"), \"./video\")\n",
        "observation = env.reset()\n",
        "while True:\n",
        "    env.render()\n",
        "    #your agent goes here\n",
        "    action = sarsa_agent(observation, q_table, EPSILON)\n",
        "    observation, reward, done, info = env.step(action) \n",
        "    if done: \n",
        "      break;    \n",
        "env.close()\n",
        "show_video()"
      ],
      "metadata": {
        "id": "LYyavfbIa47D",
        "colab": {
          "base_uri": "https://localhost:8080/",
          "height": 492
        },
        "outputId": "3eb33713-6f7c-416d-9344-1f8238c1f29e"
      },
      "execution_count": null,
      "outputs": [
        {
          "output_type": "stream",
          "name": "stderr",
          "text": [
            "<ipython-input-9-56ba1009eb8e>:31: DeprecationWarning: `np.int` is a deprecated alias for the builtin `int`. To silence this warning, use `int` by itself. Doing this will not modify any behavior and is safe. When replacing `np.int`, you may wish to use e.g. `np.int64` or `np.int32` to specify the precision. If you wish to review your current use, check the release note link for additional information.\n",
            "Deprecated in NumPy 1.20; for more details and guidance: https://numpy.org/devdocs/release/1.20.0-notes.html#deprecations\n",
            "  return tuple(discrete_state.astype(np.int))\n"
          ]
        },
        {
          "output_type": "display_data",
          "data": {
            "text/plain": [
              "<IPython.core.display.HTML object>"
            ],
            "text/html": [
              "<video alt=\"test\" autoplay \n",
              "                loop controls style=\"height: 400px;\">\n",
              "                <source src=\"data:video/mp4;base64,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\" type=\"video/mp4\" />\n",
              "             </video>"
            ]
          },
          "metadata": {}
        }
      ]
    },
    {
      "cell_type": "code",
      "source": [],
      "metadata": {
        "id": "DObZftgZ3L2u"
      },
      "execution_count": null,
      "outputs": []
    }
  ]
}