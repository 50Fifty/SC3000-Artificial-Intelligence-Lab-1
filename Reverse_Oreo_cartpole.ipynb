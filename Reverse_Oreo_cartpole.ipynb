{
  "cells": [
    {
      "cell_type": "markdown",
      "metadata": {
        "id": "ZauhjPSfX7pI"
      },
      "source": [
        "# Tutorial and Sample Code for Balancing a Pole on a Cart"
      ]
    },
    {
      "cell_type": "markdown",
      "metadata": {
        "id": "UBiYOoesYMvr"
      },
      "source": [
        "## Installing dependencies:"
      ]
    },
    {
      "attachments": {},
      "cell_type": "markdown",
      "metadata": {},
      "source": [
        "Requirements if running on Google Collab:"
      ]
    },
    {
      "cell_type": "code",
      "execution_count": 46,
      "metadata": {
        "colab": {
          "base_uri": "https://localhost:8080/"
        },
        "id": "PbgnVwZmX5uW",
        "outputId": "f9befab0-a454-4cc0-ab1b-7415c21df2e5"
      },
      "outputs": [],
      "source": [
        "# !apt-get install -y xvfb python-opengl > /dev/null 2>&1\n",
        "# !pip install gym pyvirtualdisplay > /dev/null 2>&1\n",
        "# !pip install gym pyvirtualdisplay > /dev/null 2>&1\n",
        "# !apt-get install -y xvfb python-opengl ffmpeg > /dev/null 2>&1\n",
        "# !pip install gym[classic_control]\n",
        "# !apt-get update > /dev/null 2>&1\n",
        "# !apt-get install cmake > /dev/null 2>&1\n",
        "# !pip install --upgrade setuptools 2>&1\n",
        "# !pip install ez_setup > /dev/null 2>&1\n",
        "\n",
        "# Uncomment on Google Colab"
      ]
    },
    {
      "attachments": {},
      "cell_type": "markdown",
      "metadata": {},
      "source": [
        "Requirements if running locally:"
      ]
    },
    {
      "attachments": {},
      "cell_type": "markdown",
      "metadata": {},
      "source": [
        "absl-py==1.4.0\n",
        "asttokens==2.2.1\n",
        "astunparse==1.6.3\n",
        "backcall==0.2.0\n",
        "cachetools==5.3.0\n",
        "certifi==2022.12.7\n",
        "charset-normalizer==3.1.0\n",
        "cloudpickle==2.2.1\n",
        "colorama==0.4.6\n",
        "comm==0.1.2\n",
        "contourpy==1.0.7\n",
        "cycler==0.11.0\n",
        "debugpy==1.6.6\n",
        "decorator==4.4.2\n",
        "executing==1.2.0\n",
        "flatbuffers==23.3.3\n",
        "fonttools==4.39.0\n",
        "gast==0.4.0\n",
        "google-auth==2.16.2\n",
        "google-auth-oauthlib==0.4.6\n",
        "google-pasta==0.2.0\n",
        "grpcio==1.51.3\n",
        "gym==0.25.2\n",
        "gym-notices==0.0.8\n",
        "h5py==3.8.0\n",
        "idna==3.4\n",
        "imageio==2.26.0\n",
        "imageio-ffmpeg==0.4.8\n",
        "ipykernel==6.21.3\n",
        "ipython==8.11.0\n",
        "jax==0.4.6\n",
        "jedi==0.18.2\n",
        "jupyter_client==8.0.3\n",
        "jupyter_core==5.2.0\n",
        "keras==2.12.0rc1\n",
        "kiwisolver==1.4.4\n",
        "libclang==15.0.6.1\n",
        "Markdown==3.4.1\n",
        "MarkupSafe==2.1.2\n",
        "matplotlib==3.7.1\n",
        "matplotlib-inline==0.1.6\n",
        "moviepy==1.0.3\n",
        "nest-asyncio==1.5.6\n",
        "numpy==1.23.5\n",
        "oauthlib==3.2.2\n",
        "opt-einsum==3.3.0\n",
        "packaging==23.0\n",
        "parso==0.8.3\n",
        "pickleshare==0.7.5\n",
        "Pillow==9.4.0\n",
        "platformdirs==3.1.1\n",
        "proglog==0.1.10\n",
        "prompt-toolkit==3.0.38\n",
        "protobuf==4.22.1\n",
        "psutil==5.9.4\n",
        "pure-eval==0.2.2\n",
        "pyasn1==0.4.8\n",
        "pyasn1-modules==0.2.8\n",
        "pygame==2.2.0\n",
        "Pygments==2.14.0\n",
        "PyOpenGL==3.1.6\n",
        "pyparsing==3.0.9\n",
        "python-dateutil==2.8.2\n",
        "PyVirtualDisplay==3.0\n",
        "pywin32==305\n",
        "pyzmq==25.0.0\n",
        "requests==2.28.2\n",
        "requests-oauthlib==1.3.1\n",
        "rsa==4.9\n",
        "scipy==1.10.1\n",
        "six==1.16.0\n",
        "stack-data==0.6.2\n",
        "tensorboard==2.12.0\n",
        "tensorboard-data-server==0.7.0\n",
        "tensorboard-plugin-wit==1.8.1\n",
        "tensorflow==2.12.0rc1\n",
        "tensorflow-estimator==2.12.0rc0\n",
        "tensorflow-intel==2.12.0rc1\n",
        "tensorflow-io-gcs-filesystem==0.31.0\n",
        "termcolor==2.2.0\n",
        "tornado==6.2\n",
        "tqdm==4.65.0\n",
        "traitlets==5.9.0\n",
        "typing_extensions==4.5.0\n",
        "urllib3==1.26.15\n",
        "wcwidth==0.2.6\n",
        "Werkzeug==2.2.3\n",
        "wrapt==1.14.1"
      ]
    },
    {
      "cell_type": "markdown",
      "metadata": {
        "id": "RwKbYeTgbaTA"
      },
      "source": [
        "## Importing dependencies and define helper functions"
      ]
    },
    {
      "cell_type": "code",
      "execution_count": 2,
      "metadata": {
        "id": "j6KpgCLGYWmj"
      },
      "outputs": [
        {
          "name": "stderr",
          "output_type": "stream",
          "text": [
            "c:\\Users\\Sean\\Documents\\GitHub\\SC3000-Artificial-Intelligence-Lab-1\\venv\\Lib\\site-packages\\tensorflow\\python\\debug\\cli\\debugger_cli_common.py:19: DeprecationWarning: module 'sre_constants' is deprecated\n",
            "  import sre_constants\n"
          ]
        }
      ],
      "source": [
        "import gym\n",
        "from gym import logger as gymlogger\n",
        "from gym.wrappers import RecordVideo\n",
        "gymlogger.set_level(40) #error only\n",
        "import tensorflow as tf\n",
        "import numpy as np\n",
        "import random\n",
        "import matplotlib\n",
        "import matplotlib.pyplot as plt\n",
        "%matplotlib inline\n",
        "import math\n",
        "import glob\n",
        "import io\n",
        "import base64\n",
        "from IPython.display import HTML\n",
        "from IPython import display as ipythondisplay\n",
        "\n",
        "def show_video():\n",
        "  mp4list = glob.glob('video/*.mp4')\n",
        "  if len(mp4list) > 0:\n",
        "    mp4 = mp4list[0]\n",
        "    video = io.open(mp4, 'r+b').read()\n",
        "    encoded = base64.b64encode(video)\n",
        "    ipythondisplay.display(HTML(data='''<video alt=\"test\" autoplay \n",
        "                loop controls style=\"height: 400px;\">\n",
        "                <source src=\"data:video/mp4;base64,{0}\" type=\"video/mp4\" />\n",
        "             </video>'''.format(encoded.decode('ascii'))))\n",
        "  else: \n",
        "    print(\"Could not find video\")"
      ]
    },
    {
      "cell_type": "markdown",
      "metadata": {
        "id": "ehbqP9CXbmo7"
      },
      "source": [
        "## Tutorial: Loading CartPole environment"
      ]
    },
    {
      "cell_type": "code",
      "execution_count": 4,
      "metadata": {
        "id": "Go12dH4qbwBy"
      },
      "outputs": [],
      "source": [
        "env = gym.make(\"CartPole-v1\")"
      ]
    },
    {
      "cell_type": "markdown",
      "metadata": {
        "id": "9XZ9g3xrcAXE"
      },
      "source": [
        "We can check the action and observation space of this environment. Discrete(2) means that there are two valid discrete actions: 0 & 1."
      ]
    },
    {
      "cell_type": "code",
      "execution_count": 5,
      "metadata": {
        "colab": {
          "base_uri": "https://localhost:8080/"
        },
        "id": "ytxvVmLdcRyw",
        "outputId": "7f7c5d56-4774-4ca1-e392-2c4f34cd2b3e"
      },
      "outputs": [
        {
          "name": "stdout",
          "output_type": "stream",
          "text": [
            "Discrete(2)\n"
          ]
        }
      ],
      "source": [
        "print(env.action_space)"
      ]
    },
    {
      "cell_type": "markdown",
      "metadata": {
        "id": "pVXGWi_Ncfg-"
      },
      "source": [
        "The observation space is given below. The first two arrays define the min and max values of the 4 observed values, corresponding to cart position, velocity and pole angle, angular velocity."
      ]
    },
    {
      "cell_type": "code",
      "execution_count": 6,
      "metadata": {
        "colab": {
          "base_uri": "https://localhost:8080/"
        },
        "id": "DyqHr9I5cdkX",
        "outputId": "d4f68c37-5157-4ba9-d7ff-9823d86b3f2f"
      },
      "outputs": [
        {
          "name": "stdout",
          "output_type": "stream",
          "text": [
            "Box([-4.8000002e+00 -3.4028235e+38 -4.1887903e-01 -3.4028235e+38], [4.8000002e+00 3.4028235e+38 4.1887903e-01 3.4028235e+38], (4,), float32)\n"
          ]
        }
      ],
      "source": [
        "print(env.observation_space)"
      ]
    },
    {
      "cell_type": "markdown",
      "metadata": {
        "id": "HFOdaU2Gdyg0"
      },
      "source": [
        "We call each round of the pole-balancing game an \"episode\". At the start of each episode, make sure the environment is reset, which chooses a random initial state, e.g., pole slightly tilted to the right. This initialization can be achieved by the code below, which returns the observation of the initial state."
      ]
    },
    {
      "cell_type": "code",
      "execution_count": 7,
      "metadata": {
        "colab": {
          "base_uri": "https://localhost:8080/"
        },
        "id": "VMr6qAqxdOsm",
        "outputId": "b7780163-3a3d-4990-c1fa-5a7fee0fc1b8"
      },
      "outputs": [
        {
          "name": "stdout",
          "output_type": "stream",
          "text": [
            "Initial observations: [-0.02912761  0.01079769 -0.02170693  0.01006483]\n"
          ]
        }
      ],
      "source": [
        "observation = env.reset()\n",
        "print(\"Initial observations:\", observation)"
      ]
    },
    {
      "cell_type": "markdown",
      "metadata": {
        "id": "qnG2QdfbeZrI"
      },
      "source": [
        "For the CartPole environment, there are two possible actions: 0 for pushing to the left and 1 for pushing to the right. For example, we can push the cart to the left using code below, which returns the new observation, the current reward, an indicator of whether the game ends, and some additional information (not used in this project). For CartPole, the game ends when the pole is significantly tilted or you manage to balance the pole for 500 steps. You get exactly 1 reward for each step before the game ends (i.e., max cumulative reward is 500)."
      ]
    },
    {
      "cell_type": "code",
      "execution_count": 8,
      "metadata": {
        "colab": {
          "base_uri": "https://localhost:8080/"
        },
        "id": "MmfMDvyYdWGk",
        "outputId": "3b1f58b8-0056-43a3-c346-7f9ec943e84f"
      },
      "outputs": [
        {
          "name": "stdout",
          "output_type": "stream",
          "text": [
            "New observations after choosing action 0: [-0.02891166 -0.18400633 -0.02150564  0.29582068]\n",
            "Reward for this step: 1.0\n",
            "Is this round done? False\n"
          ]
        }
      ],
      "source": [
        "observation, reward, done, info = env.step(0)\n",
        "print(\"New observations after choosing action 0:\", observation)\n",
        "print(\"Reward for this step:\", reward)\n",
        "print(\"Is this round done?\", done)"
      ]
    },
    {
      "cell_type": "markdown",
      "metadata": {
        "id": "tj0zCh59fhBb"
      },
      "source": [
        "Now we can play a full round of the game using a naive strategy (always choosing action 0), and show the cumulative reward in the round. Note that reward returned by env.step(*) corresponds to the reward for current step. So we have to accumulate the reward for each step. Clearly, the naive strategy performs poorly by surviving only a dozen of steps."
      ]
    },
    {
      "cell_type": "code",
      "execution_count": 9,
      "metadata": {
        "colab": {
          "base_uri": "https://localhost:8080/"
        },
        "id": "AVucQVRwf6Jm",
        "outputId": "09063e2c-b509-43b8-f7c0-15e4786938fb"
      },
      "outputs": [
        {
          "name": "stdout",
          "output_type": "stream",
          "text": [
            "Cumulative reward for this round: 10.0\n"
          ]
        }
      ],
      "source": [
        "observation = env.reset()\n",
        "cumulative_reward = 0\n",
        "done = False\n",
        "while not done:\n",
        "    observation, reward, done, info = env.step(0)\n",
        "    cumulative_reward += reward\n",
        "print(\"Cumulative reward for this round:\", cumulative_reward)"
      ]
    },
    {
      "cell_type": "markdown",
      "metadata": {
        "id": "2oIzK9SzhlWN"
      },
      "source": [
        "## Task 1: Development of an RL agent"
      ]
    },
    {
      "cell_type": "markdown",
      "metadata": {
        "id": "Cc6_e5c_huiq"
      },
      "source": [
        "An example of a naive agent is given below, which randomly chooses an\n",
        "\n",
        "action regardless of the observation:"
      ]
    },
    {
      "cell_type": "code",
      "execution_count": 10,
      "metadata": {
        "id": "n0bUKMdSiGgF"
      },
      "outputs": [],
      "source": [
        "from collections import defaultdict\n",
        "import time, sys"
      ]
    },
    {
      "cell_type": "code",
      "execution_count": 11,
      "metadata": {
        "id": "Hk-M4QEfh6l5"
      },
      "outputs": [],
      "source": [
        "def rand_policy_agent(observation):\n",
        "    return random.randint(0, 1)"
      ]
    },
    {
      "cell_type": "markdown",
      "metadata": {
        "id": "Fn7X3bJ4iUHT"
      },
      "source": [
        "Our RL agent based on ( )\n",
        "\n",
        "\n",
        "\n"
      ]
    },
    {
      "cell_type": "code",
      "execution_count": 12,
      "metadata": {
        "id": "7xTXm4wGfHq_"
      },
      "outputs": [],
      "source": [
        "def rl_agent(observation):\n",
        "    if observation[2] < 0:\n",
        "        return 0\n",
        "    elif observation[2] > 0:\n",
        "        return 1\n",
        "    else:\n",
        "        return (random.randint(0,1))"
      ]
    },
    {
      "cell_type": "code",
      "execution_count": 13,
      "metadata": {
        "id": "7MIPlx0LngAL"
      },
      "outputs": [],
      "source": [
        "def plot_policy(rewards, title=\"Equiprobable Policy\"):\n",
        "    plt.plot(rewards)\n",
        "    plt.xlabel(\"Episode #\")\n",
        "    plt.ylabel(\"Expected Reward\")\n",
        "    plt.title(title)\n",
        "    plt.show()"
      ]
    },
    {
      "cell_type": "code",
      "execution_count": 14,
      "metadata": {
        "colab": {
          "base_uri": "https://localhost:8080/"
        },
        "id": "ZSHRFKzslOLU",
        "outputId": "042812e9-afcf-4701-c04a-30e2043f89c9"
      },
      "outputs": [
        {
          "name": "stdout",
          "output_type": "stream",
          "text": [
            "Action size: 2\n",
            "Initial State\n",
            "\n",
            "Cart Position: 0.035694648 \n",
            "Cart Velocity: -0.04928711 \n",
            "Pole Angle: -0.04606155 \n",
            "Pole Velocity: 0.04893599\n"
          ]
        }
      ],
      "source": [
        "class Agent():\n",
        "    def __init__(self, env):\n",
        "        self.action_size = env.action_space.n\n",
        "        print(\"Action size:\", self.action_size)\n",
        "\n",
        "    def get_action_equiprobable(self, Q_s=None, epsilon=None):\n",
        "        '''\n",
        "        Generates equiprobable random policy given the action size for the cartpole\n",
        "        '''\n",
        "        action = np.random.choice(range(self.action_size))\n",
        "        return action\n",
        "\n",
        "    def get_action_momentum(self, state):\n",
        "        cart_position, cart_velocity, pole_angle, pole_velocity = state\n",
        "        action = 1 if pole_angle > 0 else 0\n",
        "        return action\n",
        "    \n",
        "    def parse_state(self, state, pprint=False):\n",
        "        cart_position, cart_velocity, pole_angle, pole_velocity = state\n",
        "        if pprint:\n",
        "            print(\"Cart Position:\", cart_position, \"\\nCart Velocity:\", cart_velocity, \"\\nPole Angle:\", pole_angle, \"\\nPole Velocity:\", pole_velocity)\n",
        "        return cart_position, cart_velocity, pole_angle, pole_velocity\n",
        "\n",
        "agent = Agent(env)\n",
        "state = env.reset()\n",
        "print(\"Initial State\\n\")\n",
        "_ = agent.parse_state(state, True)"
      ]
    },
    {
      "cell_type": "markdown",
      "metadata": {
        "id": "T4hGQ3GZTqVQ"
      },
      "source": [
        "### Implement Discretization (coverting a continuous state space into a discrete state space):"
      ]
    },
    {
      "cell_type": "markdown",
      "metadata": {
        "id": "9kBl0rFXTHCq"
      },
      "source": [
        "Lower bound of observational space:"
      ]
    },
    {
      "cell_type": "code",
      "execution_count": 15,
      "metadata": {
        "colab": {
          "base_uri": "https://localhost:8080/"
        },
        "id": "MsYSCIszS_sv",
        "outputId": "c363f5d9-5461-42b5-a1ac-7c95b01d86aa"
      },
      "outputs": [
        {
          "name": "stdout",
          "output_type": "stream",
          "text": [
            "[-4.8000002e+00 -3.4028235e+38 -4.1887903e-01 -3.4028235e+38]\n"
          ]
        }
      ],
      "source": [
        "print(env.observation_space.low)"
      ]
    },
    {
      "cell_type": "code",
      "execution_count": 16,
      "metadata": {
        "colab": {
          "base_uri": "https://localhost:8080/"
        },
        "id": "ddYBIfCTUXMR",
        "outputId": "c103eae1-4e47-47d2-bf48-c58b739b6966"
      },
      "outputs": [
        {
          "name": "stdout",
          "output_type": "stream",
          "text": [
            "[4.8000002e+00 3.4028235e+38 4.1887903e-01 3.4028235e+38]\n"
          ]
        }
      ],
      "source": [
        "print(env.observation_space.high)"
      ]
    },
    {
      "cell_type": "code",
      "execution_count": 17,
      "metadata": {
        "id": "iVqk0YTRTNsB"
      },
      "outputs": [],
      "source": [
        "set_lower_bounds = np.array([-2.35, -5, -0.22, -5])\n",
        "set_upper_bounds = np.array([2.35, 5, 0.22, 5])\n",
        "bin_number = 10 # Sets the number of bins for discretization"
      ]
    },
    {
      "cell_type": "code",
      "execution_count": 18,
      "metadata": {
        "id": "SCt_ZryOUx8y"
      },
      "outputs": [],
      "source": [
        "def get_width(low, high, number_bins=10):\n",
        "    '''\n",
        "    Returns the width of each bin given the lower and upper bounds.\n",
        "    '''\n",
        "    return (high - low) / number_bins"
      ]
    },
    {
      "cell_type": "code",
      "execution_count": 19,
      "metadata": {
        "id": "28_uUKEfVC8e"
      },
      "outputs": [],
      "source": [
        "def bin_boundary_mean(observation, lower_bound, upper_bound, bin_number):\n",
        "    '''\n",
        "    Returns the index number (0 based) given an observation from one state.\n",
        "    Params:\n",
        "        observation: the observation vlaue of the state\n",
        "        lower_bound: lower bound for that observation\n",
        "        upper_bound: upper bound for that observation\n",
        "        bin_number: numbert of bins to set index for\n",
        "\n",
        "    Returns the index number for the specific observation under a state\n",
        "    '''\n",
        "    width = get_width(lower_bound, upper_bound, bin_number) # calculates the width for observation\n",
        "    state_index = -1 # default state index\n",
        "\n",
        "    if max(lower_bound, observation) == lower_bound: # case when observation <= lower bound\n",
        "        state_index = 0\n",
        "    elif min(upper_bound, observation) == upper_bound: # case when observation >= upper_bound\n",
        "        state_index = bin_number - 1\n",
        "    else: # case when lower_bound <= observation <= upper_bound\n",
        "        for i in range(bin_number):\n",
        "            l = lower_bound + i * width\n",
        "            delta = abs(l - observation)\n",
        "            if delta <= width:\n",
        "                h = lower_bound + (i + 1) * width\n",
        "                avg = (h + 1) / 2\n",
        "                if observation >= avg and i < bin_number - 1:\n",
        "                    state_index = i + 1\n",
        "                else:\n",
        "                    state_index = i\n",
        "                break\n",
        "\n",
        "    return state_index\n"
      ]
    },
    {
      "cell_type": "code",
      "execution_count": 20,
      "metadata": {
        "id": "-RZMoL7pZQFu"
      },
      "outputs": [],
      "source": [
        "def discretize_state(state, bounds, bin_numbers):\n",
        "    '''\n",
        "    Generates a set of discretized bin indicies for a set of observations in one state\n",
        "    Params:\n",
        "        state: tuple of observations\n",
        "        bounds: tuple of upper and lower bounds\n",
        "        bin_number: number of bins\n",
        "    Returns: (np.array) list of indices for the state\n",
        "    '''\n",
        "\n",
        "    lower_bound, upper_bound = bounds\n",
        "    discretized_observations = []\n",
        "\n",
        "    for i, obs in enumerate(state):\n",
        "        index = bin_boundary_mean(obs, lower_bound[i], upper_bound[i], bin_numbers[i])\n",
        "        discretized_observations.append(index)\n",
        "    return np.array(discretized_observations)"
      ]
    },
    {
      "attachments": {},
      "cell_type": "markdown",
      "metadata": {
        "id": "2HnE5HNXbSO7"
      },
      "source": [
        "### Monte Carlo Control policy generation"
      ]
    },
    {
      "cell_type": "code",
      "execution_count": 21,
      "metadata": {
        "id": "kiFacom-Xt7A"
      },
      "outputs": [],
      "source": [
        "def generate_episode_Q(env, Q_table, policy, epsilon, bins=[40, 50, 100, 10], render = False):\n",
        "    '''\n",
        "    Uses MC control situation.\n",
        "    Args:\n",
        "        env: the environment specified by the agent.\n",
        "        policy: type of policy, pi\n",
        "        bins: bin numbers for cart position, cart velocity, pole angle, pole velocity\n",
        "        render: boolean indicating\n",
        "    '''\n",
        "    episode = []\n",
        "    state = env.reset()\n",
        "    total_reward:float = 0\n",
        "    \n",
        "    while True:\n",
        "        state = discretize_state(state, (set_lower_bounds, set_upper_bounds), bins)\n",
        "        action = policy(Q_table, state, epsilon) # policy can be greedy or random\n",
        "        next_state, reward, done,_ = env.step(action)\n",
        "        total_reward += reward\n",
        "\n",
        "        episode.append((state, action, reward))\n",
        "        state = next_state\n",
        "\n",
        "        env.render() if render else None\n",
        "        if (done):\n",
        "            break\n",
        "\n",
        "    return np.array(episode), total_reward, len(episode)"
      ]
    },
    {
      "cell_type": "code",
      "execution_count": 22,
      "metadata": {
        "id": "ve8PKag1egcz"
      },
      "outputs": [],
      "source": [
        "def policy_Q(Q, state, epsilon):\n",
        "    '''\n",
        "    Obtains action probabilities corresponding to epsilon-greedy policy\n",
        "    '''\n",
        "    state = tuple(state)\n",
        "    if state in Q:\n",
        "        action = np.random.choice(np.arange(agent.action_size), p=get_probs(Q[state], epsilon, agent.action_size))\n",
        "    else:\n",
        "        action = env.action_space.sample()\n",
        "    return action"
      ]
    },
    {
      "cell_type": "code",
      "execution_count": 23,
      "metadata": {
        "id": "DCL7hYAZfGK6"
      },
      "outputs": [],
      "source": [
        "def get_probs(Q_s, epsilon, nA):\n",
        "    '''\n",
        "    Obtains the action probabilities corresponding to episolon-greedy policy\n",
        "    '''\n",
        "    policy_s = np.ones(nA) * epsilon / nA\n",
        "    best_a = np.argmax(Q_s)\n",
        "    policy_s[best_a] = 1 - epsilon + (epsilon / nA)\n",
        "    return policy_s"
      ]
    },
    {
      "cell_type": "code",
      "execution_count": 24,
      "metadata": {
        "id": "wrbR2stOfjLc"
      },
      "outputs": [],
      "source": [
        "def update_Q(env, episode, Q, alpha, gamma):\n",
        "    '''\n",
        "    Updates the action-value function estimate using the most recent episode\n",
        "    '''\n",
        "    states, actions, rewards = zip(*episode)\n",
        "    discounts = np.array([gamma**i for i in range(len(rewards)+1)])\n",
        "    for i, state in enumerate(states):\n",
        "        old_Q = Q[tuple(state)][(actions[i])]\n",
        "        Q[tuple(state)][actions[i]] = old_Q + alpha * (sum(rewards[i:]*discounts[:-(1+i)]) - old_Q)\n",
        "    return Q"
      ]
    },
    {
      "cell_type": "code",
      "execution_count": 25,
      "metadata": {
        "id": "IyvJ8P8JgcwM"
      },
      "outputs": [],
      "source": [
        "def mc_control(env, num_episodes, policy, alpha, gamma=1.0, eps_start=1.0, eps_decay=.99999, eps_min=0.05):\n",
        "    '''\n",
        "    Generalize policy function, pi, using e-greedy policy method\n",
        "    '''\n",
        "\n",
        "    action_size = agent.action_size\n",
        "    Q = defaultdict(lambda: np.zeros(action_size))\n",
        "    epsilon = eps_start\n",
        "\n",
        "    for i in range(num_episodes):\n",
        "        if (i % 100 == 0):\n",
        "            print(f\"\\rEpisode {i}/{num_episodes}\", end=\"\")\n",
        "            sys.stdout.flush()\n",
        "\n",
        "        epsilon = max(epsilon*eps_decay, eps_min)\n",
        "        episode,_,_ = generate_episode_Q(env, Q, policy, epsilon)\n",
        "        Q = update_Q(env, episode, Q, alpha, gamma)\n",
        "\n",
        "    policy = dict((k, np.argmax(v)) for k ,v in Q.items())\n",
        "    return policy, Q"
      ]
    },
    {
      "cell_type": "code",
      "execution_count": 26,
      "metadata": {
        "colab": {
          "base_uri": "https://localhost:8080/"
        },
        "id": "1nyi_jHuh2LT",
        "outputId": "337b4167-187a-4595-939f-9a91ed0a62ff"
      },
      "outputs": [
        {
          "name": "stdout",
          "output_type": "stream",
          "text": [
            "Episode 0/100000"
          ]
        },
        {
          "name": "stderr",
          "output_type": "stream",
          "text": [
            "C:\\Users\\Sean\\AppData\\Local\\Temp\\ipykernel_30932\\1057904784.py:27: VisibleDeprecationWarning: Creating an ndarray from ragged nested sequences (which is a list-or-tuple of lists-or-tuples-or ndarrays with different lengths or shapes) is deprecated. If you meant to do this, you must specify 'dtype=object' when creating the ndarray.\n",
            "  return np.array(episode), total_reward, len(episode)\n"
          ]
        },
        {
          "name": "stdout",
          "output_type": "stream",
          "text": [
            "Episode 99900/100000"
          ]
        }
      ],
      "source": [
        "policy, Q = mc_control(env, 100000, policy_Q, 0.03)"
      ]
    },
    {
      "cell_type": "code",
      "execution_count": 27,
      "metadata": {
        "id": "K_FUtKuZiNjy"
      },
      "outputs": [],
      "source": [
        "states, actions = list(policy.keys()), list(policy.values())"
      ]
    },
    {
      "cell_type": "code",
      "execution_count": 28,
      "metadata": {
        "colab": {
          "base_uri": "https://localhost:8080/"
        },
        "id": "5GUEPpWppPIj",
        "outputId": "7a1e7e8a-48cd-419d-c5d4-ac9feaadade3"
      },
      "outputs": [
        {
          "data": {
            "text/plain": [
              "103840"
            ]
          },
          "execution_count": 28,
          "metadata": {},
          "output_type": "execute_result"
        }
      ],
      "source": [
        "len(states)"
      ]
    },
    {
      "cell_type": "code",
      "execution_count": 29,
      "metadata": {
        "colab": {
          "base_uri": "https://localhost:8080/"
        },
        "id": "FZ6aGo5piWie",
        "outputId": "3b6e5bbe-f907-44d0-9163-d78487184eca"
      },
      "outputs": [
        {
          "data": {
            "text/plain": [
              "103840"
            ]
          },
          "execution_count": 29,
          "metadata": {},
          "output_type": "execute_result"
        }
      ],
      "source": [
        "len(actions)"
      ]
    },
    {
      "cell_type": "code",
      "execution_count": 30,
      "metadata": {
        "colab": {
          "base_uri": "https://localhost:8080/"
        },
        "id": "evZLKV_oiY2s",
        "outputId": "1b43e310-ef6d-4064-f470-c534d69ccb1e"
      },
      "outputs": [
        {
          "name": "stderr",
          "output_type": "stream",
          "text": [
            "C:\\Users\\Sean\\AppData\\Local\\Temp\\ipykernel_30932\\1057904784.py:27: VisibleDeprecationWarning: Creating an ndarray from ragged nested sequences (which is a list-or-tuple of lists-or-tuples-or ndarrays with different lengths or shapes) is deprecated. If you meant to do this, you must specify 'dtype=object' when creating the ndarray.\n",
            "  return np.array(episode), total_reward, len(episode)\n"
          ]
        }
      ],
      "source": [
        "num_episode = 100\n",
        "epsilon = np.arange(0.0, 0.5, 0.01)\n",
        "episodal_eps_val = []\n",
        "for ep in epsilon:\n",
        "    total_reward = 0\n",
        "    for i in range(num_episode):\n",
        "        _, reward, _ = generate_episode_Q(env, Q, policy_Q, ep)\n",
        "        total_reward += (reward)/num_episode\n",
        "    episodal_eps_val.append(total_reward)\n",
        "episodal_eps_val = np.array(episodal_eps_val)"
      ]
    },
    {
      "cell_type": "code",
      "execution_count": 31,
      "metadata": {
        "colab": {
          "base_uri": "https://localhost:8080/",
          "height": 295
        },
        "id": "2pdLKXCljmrb",
        "outputId": "c3f5d54e-a2fa-4b52-8ed8-86459dd52e7a"
      },
      "outputs": [
        {
          "data": {
            "image/png": "[encoded data removed]",
            "text/plain": [
              "<Figure size 640x480 with 1 Axes>"
            ]
          },
          "metadata": {},
          "output_type": "display_data"
        }
      ],
      "source": [
        "plt.plot(epsilon, episodal_eps_val)\n",
        "plt.xlabel(\"Epsilon value\")\n",
        "plt.ylabel(\"Avg. reward on 100 episodes\")\n",
        "plt.title(\"Optimal value for epsilon\")\n",
        "plt.show()"
      ]
    },
    {
      "cell_type": "code",
      "execution_count": 32,
      "metadata": {
        "colab": {
          "base_uri": "https://localhost:8080/"
        },
        "id": "Rt8g-zZWj3Jk",
        "outputId": "1d65ae75-4897-4675-ecaa-4356dd21cbe3"
      },
      "outputs": [
        {
          "data": {
            "text/plain": [
              "(336.31000000000006, 0)"
            ]
          },
          "execution_count": 32,
          "metadata": {},
          "output_type": "execute_result"
        }
      ],
      "source": [
        "episodal_eps_val.max(), episodal_eps_val.argmax()"
      ]
    },
    {
      "cell_type": "code",
      "execution_count": 33,
      "metadata": {
        "id": "w3dQiwnSkCop"
      },
      "outputs": [],
      "source": [
        "optimal_epsilon = epsilon[episodal_eps_val.argmax()]"
      ]
    },
    {
      "cell_type": "code",
      "execution_count": 34,
      "metadata": {
        "colab": {
          "base_uri": "https://localhost:8080/"
        },
        "id": "nlEa4G_2kHmC",
        "outputId": "3ed4be78-7aa6-4dba-b962-07c6c5b63e93"
      },
      "outputs": [
        {
          "name": "stdout",
          "output_type": "stream",
          "text": [
            "Optimal value for epsilon: 0.0\n"
          ]
        }
      ],
      "source": [
        "print(\"Optimal value for epsilon:\", optimal_epsilon)"
      ]
    },
    {
      "cell_type": "code",
      "execution_count": 35,
      "metadata": {
        "colab": {
          "base_uri": "https://localhost:8080/"
        },
        "id": "4ySdy3fMkMo7",
        "outputId": "133149bf-9c3e-43d6-a726-0d28a271b570"
      },
      "outputs": [
        {
          "data": {
            "text/plain": [
              "103840"
            ]
          },
          "execution_count": 35,
          "metadata": {},
          "output_type": "execute_result"
        }
      ],
      "source": [
        "len(actions)"
      ]
    },
    {
      "cell_type": "code",
      "execution_count": 36,
      "metadata": {
        "colab": {
          "base_uri": "https://localhost:8080/"
        },
        "id": "D36zLY0UkQmI",
        "outputId": "f7368a79-842a-4faf-93ab-f66c1782a271"
      },
      "outputs": [
        {
          "name": "stderr",
          "output_type": "stream",
          "text": [
            "C:\\Users\\Sean\\AppData\\Local\\Temp\\ipykernel_30932\\1057904784.py:27: VisibleDeprecationWarning: Creating an ndarray from ragged nested sequences (which is a list-or-tuple of lists-or-tuples-or ndarrays with different lengths or shapes) is deprecated. If you meant to do this, you must specify 'dtype=object' when creating the ndarray.\n",
            "  return np.array(episode), total_reward, len(episode)\n"
          ]
        },
        {
          "name": "stdout",
          "output_type": "stream",
          "text": [
            "Average reward with optimal policy, epsilon=0.0 with 10 iterations: 370.5\n"
          ]
        }
      ],
      "source": [
        "optimal_reward = 0\n",
        "len_iter = 10\n",
        "for i in range(len_iter):\n",
        "    episode, reward, ni = generate_episode_Q(env, Q, policy_Q, optimal_epsilon, render=False)\n",
        "    optimal_reward += reward/len_iter\n",
        "    time.sleep(0.15)\n",
        "print(f\"Average reward with optimal policy, epsilon={optimal_epsilon} with {len_iter} iterations: {optimal_reward}\")"
      ]
    },
    {
      "cell_type": "markdown",
      "metadata": {
        "id": "RAi7KKwNiegR"
      },
      "source": [
        "For Task 1, we can show the observation and chosen action below:"
      ]
    },
    {
      "cell_type": "code",
      "execution_count": 37,
      "metadata": {
        "id": "cZCTjg2k48oa"
      },
      "outputs": [],
      "source": [
        "def generate_one_round(state, policy, Q_table, epsilon, bins=[40, 50, 100, 10]):\n",
        "    state = discretize_state(state, (set_lower_bounds, set_upper_bounds), bins)\n",
        "    action = policy(Q_table, state, epsilon) # policy can be greedy or random\n",
        "    return action\n",
        "\n"
      ]
    },
    {
      "cell_type": "code",
      "execution_count": 38,
      "metadata": {
        "colab": {
          "base_uri": "https://localhost:8080/"
        },
        "id": "ae2ia-vUiNKJ",
        "outputId": "c4aed7e7-8dc2-4b9f-850e-a2b1490a3801"
      },
      "outputs": [
        {
          "name": "stdout",
          "output_type": "stream",
          "text": [
            "Observation: [ 0.01054194 -0.01739318 -0.00932644  0.03655412]\n",
            "Chosen action: 1\n"
          ]
        }
      ],
      "source": [
        "observation = env.reset()\n",
        "\n",
        "# action = rand_policy_agent(observation)\n",
        "# action = rl_agent(observation)\n",
        "# action = generate_episode_Q()\n",
        "action = generate_one_round(observation, policy_Q, Q, optimal_epsilon)\n",
        "print(\"Observation:\", observation)\n",
        "print(\"Chosen action:\", action)"
      ]
    },
    {
      "cell_type": "markdown",
      "metadata": {
        "id": "-XtIQ0Rti1gm"
      },
      "source": [
        "## Task 2: Demonstrate the effectiveness of the RL agent"
      ]
    },
    {
      "cell_type": "markdown",
      "metadata": {
        "id": "djBEShf0kGI4"
      },
      "source": [
        "For this task, use the agent developed in Task 1 to play the game for 100 episodes (refer to tutorial for how to play a round), record the cumulative reward for each round, and plot the reward for each round. A sample plotting code is given below. Note that you must include code to play for 100 episodes and use the code to obtain round_results for plotting. DO NOT record the round results in advance and paste the results to the notebook."
      ]
    },
    {
      "cell_type": "code",
      "execution_count": 39,
      "metadata": {
        "colab": {
          "base_uri": "https://localhost:8080/"
        },
        "id": "BZhSeRAC_dCv",
        "outputId": "31ae2f2e-9b1d-4ac4-dd63-0d6efd5af791"
      },
      "outputs": [
        {
          "name": "stdout",
          "output_type": "stream",
          "text": [
            "Cumulative reward for this round: 447.0\n"
          ]
        }
      ],
      "source": [
        "def generate_one_episode():\n",
        "    cumulative_reward = 0\n",
        "    done = False\n",
        "    observation = env.reset()\n",
        "    while not done:\n",
        "        observation, reward, done, info = env.step(generate_one_round(observation, policy_Q, Q, optimal_epsilon))\n",
        "        cumulative_reward += reward\n",
        "\n",
        "    # print(\"Cumulative reward for this round:\", cumulative_reward)\n",
        "    return cumulative_reward\n",
        "\n",
        "print(\"Cumulative reward for this round:\", generate_one_episode())"
      ]
    },
    {
      "cell_type": "code",
      "execution_count": 40,
      "metadata": {
        "colab": {
          "base_uri": "https://localhost:8080/",
          "height": 295
        },
        "id": "RZrCKywQi6CE",
        "outputId": "c2f85628-b0e4-4203-b236-2673bac4fcde"
      },
      "outputs": [
        {
          "data": {
            "image/png": "[encoded data removed]",
            "text/plain": [
              "<Figure size 640x480 with 1 Axes>"
            ]
          },
          "metadata": {},
          "output_type": "display_data"
        }
      ],
      "source": [
        "# episode_results = np.random.randint(150, 250, size=100)\n",
        "episode_results = []\n",
        "\n",
        "for i in range(0, 100):\n",
        "    episode_results.append(generate_one_episode())\n",
        "\n",
        "episode_results = np.array(episode_results)\n",
        "plt.plot(episode_results)\n",
        "plt.title('Cumulative reward for each episode')\n",
        "plt.ylabel('Cumulative reward')\n",
        "plt.xlabel('episode')\n",
        "plt.show()"
      ]
    },
    {
      "cell_type": "markdown",
      "metadata": {
        "id": "XndSYH7wlvn7"
      },
      "source": [
        "Print the average reward over the 100 episodes."
      ]
    },
    {
      "cell_type": "code",
      "execution_count": 41,
      "metadata": {
        "colab": {
          "base_uri": "https://localhost:8080/"
        },
        "id": "pOiOp9OYlo5Y",
        "outputId": "c299d47a-4601-4f91-e00c-1066fe83ac46"
      },
      "outputs": [
        {
          "name": "stdout",
          "output_type": "stream",
          "text": [
            "Average cumulative reward: 299.16\n",
            "Is my agent good enough? True\n"
          ]
        }
      ],
      "source": [
        "print(\"Average cumulative reward:\", episode_results.mean())\n",
        "print(\"Is my agent good enough?\", episode_results.mean() > 195)"
      ]
    },
    {
      "cell_type": "markdown",
      "metadata": {
        "id": "Yg0DCT38lFA6"
      },
      "source": [
        "## Task 3: Render one episode played by the agent"
      ]
    },
    {
      "cell_type": "markdown",
      "metadata": {
        "id": "vx1awMr9lc_w"
      },
      "source": [
        "Plug your agent to the code below to obtain rendered result."
      ]
    },
    {
      "cell_type": "code",
      "execution_count": 45,
      "metadata": {
        "colab": {
          "base_uri": "https://localhost:8080/",
          "height": 421
        },
        "id": "LYyavfbIa47D",
        "outputId": "eec34726-09e6-4d8c-be49-53cef29618af"
      },
      "outputs": [
        {
          "data": {
            "text/html": [
              "<video alt=\"test\" autoplay \n",
              "                loop controls style=\"height: 400px;\">\n",
              "                <source src=\"data:video/mp4;base64,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\" type=\"video/mp4\" />\n",
              "             </video>"
            ],
            "text/plain": [
              "<IPython.core.display.HTML object>"
            ]
          },
          "metadata": {},
          "output_type": "display_data"
        }
      ],
      "source": [
        "env = RecordVideo(gym.make(\"CartPole-v1\"), \"./video\")\n",
        "done = False\n",
        "observation = env.reset()\n",
        "while True:\n",
        "    env.render()\n",
        "    #your agent goes here\n",
        "    \n",
        "    action = generate_one_round(observation, policy_Q, Q, optimal_epsilon)\n",
        "\n",
        "    observation, reward, done, info = env.step(action)\n",
        "\n",
        "    if done:\n",
        "        break\n",
        "\n",
        "env.close()\n",
        "show_video()"
      ]
    },
    {
      "cell_type": "code",
      "execution_count": null,
      "metadata": {},
      "outputs": [],
      "source": []
    }
  ],
  "metadata": {
    "colab": {
      "collapsed_sections": [
        "ehbqP9CXbmo7"
      ],
      "provenance": []
    },
    "kernelspec": {
      "display_name": "Python 3",
      "name": "python3"
    },
    "language_info": {
      "codemirror_mode": {
        "name": "ipython",
        "version": 3
      },
      "file_extension": ".py",
      "mimetype": "text/x-python",
      "name": "python",
      "nbconvert_exporter": "python",
      "pygments_lexer": "ipython3",
      "version": "3.11.2"
    }
  },
  "nbformat": 4,
  "nbformat_minor": 0
}
